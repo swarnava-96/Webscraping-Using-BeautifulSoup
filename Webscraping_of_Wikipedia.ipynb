{
  "nbformat": 4,
  "nbformat_minor": 0,
  "metadata": {
    "colab": {
      "name": "Webscraping of Wikipedia",
      "provenance": [],
      "collapsed_sections": [],
      "authorship_tag": "ABX9TyN8Hc7Wj7ck+dJ1sxrrGR6Y",
      "include_colab_link": true
    },
    "kernelspec": {
      "name": "python3",
      "display_name": "Python 3"
    },
    "language_info": {
      "name": "python"
    }
  },
  "cells": [
    {
      "cell_type": "markdown",
      "metadata": {
        "id": "view-in-github",
        "colab_type": "text"
      },
      "source": [
        "<a href=\"https://colab.research.google.com/github/swarnava-96/Webscraping-Using-BeautifulSoup/blob/main/Webscraping_of_Wikipedia.ipynb\" target=\"_parent\"><img src=\"https://colab.research.google.com/assets/colab-badge.svg\" alt=\"Open In Colab\"/></a>"
      ]
    },
    {
      "cell_type": "markdown",
      "source": [
        "# **Webscraping of Wikipedia using BeautifulSoup**"
      ],
      "metadata": {
        "id": "uLOlAG86zVQt"
      }
    },
    {
      "cell_type": "code",
      "source": [
        "# Importing the necessary libraries\n",
        "import nltk\n",
        "import urllib\n",
        "import bs4 as bs\n",
        "import re\n",
        "from nltk.corpus import stopwords\n",
        "nltk.download(\"stopwords\")\n",
        "nltk.download('punkt')"
      ],
      "metadata": {
        "colab": {
          "base_uri": "https://localhost:8080/"
        },
        "id": "6fFJXUefzX3D",
        "outputId": "6e6b40bb-09eb-4dcd-e33d-a62452e53370"
      },
      "execution_count": 13,
      "outputs": [
        {
          "output_type": "stream",
          "name": "stdout",
          "text": [
            "[nltk_data] Downloading package stopwords to /root/nltk_data...\n",
            "[nltk_data]   Package stopwords is already up-to-date!\n",
            "[nltk_data] Downloading package punkt to /root/nltk_data...\n",
            "[nltk_data]   Unzipping tokenizers/punkt.zip.\n"
          ]
        },
        {
          "output_type": "execute_result",
          "data": {
            "text/plain": [
              "True"
            ]
          },
          "metadata": {},
          "execution_count": 13
        }
      ]
    },
    {
      "cell_type": "code",
      "source": [
        "# Getting the data source\n",
        "source = urllib.request.urlopen(\"https://en.wikipedia.org/wiki/Data_science\").read()"
      ],
      "metadata": {
        "id": "1FDGF1RN0DVS"
      },
      "execution_count": 4,
      "outputs": []
    },
    {
      "cell_type": "code",
      "source": [
        "# Parsing the data/creating BeautifulSoup object\n",
        "soup = bs.BeautifulSoup(source, \"lxml\")"
      ],
      "metadata": {
        "id": "sCQufVPT1QV9"
      },
      "execution_count": 5,
      "outputs": []
    },
    {
      "cell_type": "code",
      "source": [
        "# Fetching the data\n",
        "text = \"\"\n",
        "for paragraph in soup.find_all(\"p\"):\n",
        "  text += paragraph.text"
      ],
      "metadata": {
        "id": "Cb-bhjih1odt"
      },
      "execution_count": 6,
      "outputs": []
    },
    {
      "cell_type": "code",
      "source": [
        "text"
      ],
      "metadata": {
        "colab": {
          "base_uri": "https://localhost:8080/",
          "height": 682
        },
        "id": "tWeHmM3e2ZCk",
        "outputId": "8eb1e451-ea22-4fd5-f577-ab714582eb61"
      },
      "execution_count": 7,
      "outputs": [
        {
          "output_type": "execute_result",
          "data": {
            "application/vnd.google.colaboratory.intrinsic+json": {
              "type": "string"
            },
            "text/plain": [
              "'\\nData science is an interdisciplinary field that uses scientific methods, processes, algorithms and systems to extract knowledge and insights from noisy, structured and unstructured data,[1][2] and apply knowledge and actionable insights from data across a broad range of application domains. Data science is related to data mining, machine learning and big data.\\nData science is a \"concept to unify statistics, data analysis, informatics, and their related methods\" in order to \"understand and analyze actual phenomena\" with data.[3] It uses techniques and theories drawn from many fields within the context of mathematics, statistics, computer science, information science, and domain knowledge. However, data science is different from computer science and information science. Turing Award winner Jim Gray imagined data science as a \"fourth paradigm\" of science (empirical, theoretical, computational, and now data-driven) and asserted that \"everything about science is changing because of the impact of information technology\" and the data deluge.[4][5]\\nA data scientist is someone who creates programming code, and combines it with statistical knowledge to create insights from data.[6]\\nData science is an interdisciplinary field focused on extracting knowledge from data sets, which are typically large (see big data), and applying the knowledge and actionable insights from data to solve problems in a wide range of application domains.[7] The field encompasses preparing data for analysis, formulating data science problems, analyzing data, developing data-driven solutions, and presenting findings to inform high-level decisions in a broad range of application domains. As such, it incorporates skills from computer science, statistics, information science, mathematics, information visualization, data sonification, data integration, graphic design, complex systems, communication and business.[8][9] Statistician Nathan Yau, drawing on Ben Fry, also links data science to human-computer interaction: users should be able to intuitively control and explore data.[10][11] In 2015, the American Statistical Association identified database management, statistics and machine learning, and distributed and parallel systems as the three emerging foundational professional communities.[12]\\nMany statisticians, including Nate Silver, have argued that data science is not a new field, but rather another name for statistics.[13] Others argue that data science is distinct from statistics because it focuses on problems and techniques unique to digital data.[14] Vasant Dhar writes that statistics emphasizes quantitative data and description. In contrast, data science deals with quantitative and qualitative data (e.g. images) and emphasizes prediction and action.[15] Andrew Gelman of Columbia University has described statistics as a nonessential part of data science.[16]\\nStanford professor David Donoho writes that data science is not distinguished from statistics by the size of datasets or use of computing, and that many graduate programs misleadingly advertise their analytics and statistics training as the essence of a data science program. He describes data science as an applied field growing out of traditional statistics.[17] \\nIn summary, data science can be therefore described as an applied branch of statistics.\\nIn 1962, John Tukey described a field he called \"data analysis\", which resembles modern data science.[17] In 1985, in a lecture given to the Chinese Academy of Sciences in Beijing, C.F. Jeff Wu used the term Data Science for the first time as an alternative name for statistics.[18] Later, attendees at a 1992 statistics symposium at the University of Montpellier II acknowledged the emergence of a new discipline focused on data of various origins and forms, combining established concepts and principles of statistics and data analysis with computing.[19][20]\\nThe term \"data science\" has been traced back to 1974, when Peter Naur proposed it as an alternative name for computer science.[21] In 1996, the International Federation of Classification Societies became the first conference to specifically feature data science as a topic.[21] However, the definition was still in flux. After the 1985 lecture in the Chinese Academy of Sciences in Beijing, in 1997 C.F. Jeff Wu again suggested that statistics should be renamed data science. He reasoned that a new name would help statistics shed inaccurate stereotypes, such as being synonymous with accounting, or limited to describing data.[22] In 1998, Hayashi Chikio argued for data science as a new, interdisciplinary concept, with three aspects: data design, collection, and analysis.[20]\\nDuring the 1990s, popular terms for the process of finding patterns in datasets (which were increasingly large) included \"knowledge discovery\" and \"data mining\".[23][21]\\nThe modern conception of data science as an independent discipline is sometimes attributed to William S. Cleveland.[24] In a 2001 paper, he advocated an expansion of statistics beyond theory into technical areas; because this would significantly change the field, it warranted a new name.[23] \"Data science\" became more widely used in the next few years: in 2002, the Committee on Data for Science and Technology launched Data Science Journal. In 2003, Columbia University launched The Journal of Data Science.[23] In 2014, the American Statistical Association\\'s Section on Statistical Learning and Data Mining changed its name to the Section on Statistical Learning and Data Science, reflecting the ascendant popularity of data science.[25]\\nThe professional title of \"data scientist\" has been attributed to DJ Patil and Jeff Hammerbacher in 2008.[26] Though it was used by the National Science Board in their 2005 report, \"Long-Lived Digital Data Collections: Enabling Research and Education in the 21st Century,\" it referred broadly to any key role in managing a digital data collection.[27]\\nThere is still no consensus on the definition of data science and it is considered by some to be a buzzword.[28]\\nBig data is a related marketing term.[29] Data scientists are responsible for breaking down big data into usable information and creating software and algorithms that help companies and organizations determine optimal operations.[30]\\nThere is a variety of different technologies and techniques that are used for data science which depend on the application.\\n'"
            ]
          },
          "metadata": {},
          "execution_count": 7
        }
      ]
    },
    {
      "cell_type": "code",
      "source": [
        "# Preprocessing the data\n",
        "text = re.sub(r'\\[[0-9]*\\]',' ',text)\n",
        "text = re.sub(r'\\s+',' ',text)\n",
        "text = text.lower()"
      ],
      "metadata": {
        "id": "VnRsPz3s2VAm"
      },
      "execution_count": 10,
      "outputs": []
    },
    {
      "cell_type": "code",
      "source": [
        "text"
      ],
      "metadata": {
        "colab": {
          "base_uri": "https://localhost:8080/",
          "height": 663
        },
        "id": "67cgfFs4Fgcs",
        "outputId": "110527ea-02b0-4eb4-be65-bcccc2b7be7b"
      },
      "execution_count": 11,
      "outputs": [
        {
          "output_type": "execute_result",
          "data": {
            "application/vnd.google.colaboratory.intrinsic+json": {
              "type": "string"
            },
            "text/plain": [
              "' data science is an interdisciplinary field that uses scientific methods, processes, algorithms and systems to extract knowledge and insights from noisy, structured and unstructured data, and apply knowledge and actionable insights from data across a broad range of application domains. data science is related to data mining, machine learning and big data. data science is a \"concept to unify statistics, data analysis, informatics, and their related methods\" in order to \"understand and analyze actual phenomena\" with data. it uses techniques and theories drawn from many fields within the context of mathematics, statistics, computer science, information science, and domain knowledge. however, data science is different from computer science and information science. turing award winner jim gray imagined data science as a \"fourth paradigm\" of science (empirical, theoretical, computational, and now data-driven) and asserted that \"everything about science is changing because of the impact of information technology\" and the data deluge. a data scientist is someone who creates programming code, and combines it with statistical knowledge to create insights from data. data science is an interdisciplinary field focused on extracting knowledge from data sets, which are typically large (see big data), and applying the knowledge and actionable insights from data to solve problems in a wide range of application domains. the field encompasses preparing data for analysis, formulating data science problems, analyzing data, developing data-driven solutions, and presenting findings to inform high-level decisions in a broad range of application domains. as such, it incorporates skills from computer science, statistics, information science, mathematics, information visualization, data sonification, data integration, graphic design, complex systems, communication and business. statistician nathan yau, drawing on ben fry, also links data science to human-computer interaction: users should be able to intuitively control and explore data. in , the american statistical association identified database management, statistics and machine learning, and distributed and parallel systems as the three emerging foundational professional communities. many statisticians, including nate silver, have argued that data science is not a new field, but rather another name for statistics. others argue that data science is distinct from statistics because it focuses on problems and techniques unique to digital data. vasant dhar writes that statistics emphasizes quantitative data and description. in contrast, data science deals with quantitative and qualitative data (e.g. images) and emphasizes prediction and action. andrew gelman of columbia university has described statistics as a nonessential part of data science. stanford professor david donoho writes that data science is not distinguished from statistics by the size of datasets or use of computing, and that many graduate programs misleadingly advertise their analytics and statistics training as the essence of a data science program. he describes data science as an applied field growing out of traditional statistics. in summary, data science can be therefore described as an applied branch of statistics. in , john tukey described a field he called \"data analysis\", which resembles modern data science. in , in a lecture given to the chinese academy of sciences in beijing, c.f. jeff wu used the term data science for the first time as an alternative name for statistics. later, attendees at a statistics symposium at the university of montpellier ii acknowledged the emergence of a new discipline focused on data of various origins and forms, combining established concepts and principles of statistics and data analysis with computing. the term \"data science\" has been traced back to , when peter naur proposed it as an alternative name for computer science. in , the international federation of classification societies became the first conference to specifically feature data science as a topic. however, the definition was still in flux. after the lecture in the chinese academy of sciences in beijing, in c.f. jeff wu again suggested that statistics should be renamed data science. he reasoned that a new name would help statistics shed inaccurate stereotypes, such as being synonymous with accounting, or limited to describing data. in , hayashi chikio argued for data science as a new, interdisciplinary concept, with three aspects: data design, collection, and analysis. during the s, popular terms for the process of finding patterns in datasets (which were increasingly large) included \"knowledge discovery\" and \"data mining\". the modern conception of data science as an independent discipline is sometimes attributed to william s. cleveland. in a paper, he advocated an expansion of statistics beyond theory into technical areas; because this would significantly change the field, it warranted a new name. \"data science\" became more widely used in the next few years: in , the committee on data for science and technology launched data science journal. in , columbia university launched the journal of data science. in , the american statistical association\\'s section on statistical learning and data mining changed its name to the section on statistical learning and data science, reflecting the ascendant popularity of data science. the professional title of \"data scientist\" has been attributed to dj patil and jeff hammerbacher in . though it was used by the national science board in their report, \"long-lived digital data collections: enabling research and education in the st century,\" it referred broadly to any key role in managing a digital data collection. there is still no consensus on the definition of data science and it is considered by some to be a buzzword. big data is a related marketing term. data scientists are responsible for breaking down big data into usable information and creating software and algorithms that help companies and organizations determine optimal operations. there is a variety of different technologies and techniques that are used for data science which depend on the application. '"
            ]
          },
          "metadata": {},
          "execution_count": 11
        }
      ]
    },
    {
      "cell_type": "code",
      "source": [
        "# Preparing the dataset\n",
        "sentences = nltk.sent_tokenize(text)\n",
        "sentences"
      ],
      "metadata": {
        "colab": {
          "base_uri": "https://localhost:8080/"
        },
        "id": "KpYqWtzjFi-j",
        "outputId": "6208cd48-9a70-4255-e7cc-45232db73e64"
      },
      "execution_count": 16,
      "outputs": [
        {
          "output_type": "execute_result",
          "data": {
            "text/plain": [
              "[' data science is an interdisciplinary field that uses scientific methods, processes, algorithms and systems to extract knowledge and insights from noisy, structured and unstructured data, and apply knowledge and actionable insights from data across a broad range of application domains.',\n",
              " 'data science is related to data mining, machine learning and big data.',\n",
              " 'data science is a \"concept to unify statistics, data analysis, informatics, and their related methods\" in order to \"understand and analyze actual phenomena\" with data.',\n",
              " 'it uses techniques and theories drawn from many fields within the context of mathematics, statistics, computer science, information science, and domain knowledge.',\n",
              " 'however, data science is different from computer science and information science.',\n",
              " 'turing award winner jim gray imagined data science as a \"fourth paradigm\" of science (empirical, theoretical, computational, and now data-driven) and asserted that \"everything about science is changing because of the impact of information technology\" and the data deluge.',\n",
              " 'a data scientist is someone who creates programming code, and combines it with statistical knowledge to create insights from data.',\n",
              " 'data science is an interdisciplinary field focused on extracting knowledge from data sets, which are typically large (see big data), and applying the knowledge and actionable insights from data to solve problems in a wide range of application domains.',\n",
              " 'the field encompasses preparing data for analysis, formulating data science problems, analyzing data, developing data-driven solutions, and presenting findings to inform high-level decisions in a broad range of application domains.',\n",
              " 'as such, it incorporates skills from computer science, statistics, information science, mathematics, information visualization, data sonification, data integration, graphic design, complex systems, communication and business.',\n",
              " 'statistician nathan yau, drawing on ben fry, also links data science to human-computer interaction: users should be able to intuitively control and explore data.',\n",
              " 'in , the american statistical association identified database management, statistics and machine learning, and distributed and parallel systems as the three emerging foundational professional communities.',\n",
              " 'many statisticians, including nate silver, have argued that data science is not a new field, but rather another name for statistics.',\n",
              " 'others argue that data science is distinct from statistics because it focuses on problems and techniques unique to digital data.',\n",
              " 'vasant dhar writes that statistics emphasizes quantitative data and description.',\n",
              " 'in contrast, data science deals with quantitative and qualitative data (e.g.',\n",
              " 'images) and emphasizes prediction and action.',\n",
              " 'andrew gelman of columbia university has described statistics as a nonessential part of data science.',\n",
              " 'stanford professor david donoho writes that data science is not distinguished from statistics by the size of datasets or use of computing, and that many graduate programs misleadingly advertise their analytics and statistics training as the essence of a data science program.',\n",
              " 'he describes data science as an applied field growing out of traditional statistics.',\n",
              " 'in summary, data science can be therefore described as an applied branch of statistics.',\n",
              " 'in , john tukey described a field he called \"data analysis\", which resembles modern data science.',\n",
              " 'in , in a lecture given to the chinese academy of sciences in beijing, c.f.',\n",
              " 'jeff wu used the term data science for the first time as an alternative name for statistics.',\n",
              " 'later, attendees at a statistics symposium at the university of montpellier ii acknowledged the emergence of a new discipline focused on data of various origins and forms, combining established concepts and principles of statistics and data analysis with computing.',\n",
              " 'the term \"data science\" has been traced back to , when peter naur proposed it as an alternative name for computer science.',\n",
              " 'in , the international federation of classification societies became the first conference to specifically feature data science as a topic.',\n",
              " 'however, the definition was still in flux.',\n",
              " 'after the lecture in the chinese academy of sciences in beijing, in c.f.',\n",
              " 'jeff wu again suggested that statistics should be renamed data science.',\n",
              " 'he reasoned that a new name would help statistics shed inaccurate stereotypes, such as being synonymous with accounting, or limited to describing data.',\n",
              " 'in , hayashi chikio argued for data science as a new, interdisciplinary concept, with three aspects: data design, collection, and analysis.',\n",
              " 'during the s, popular terms for the process of finding patterns in datasets (which were increasingly large) included \"knowledge discovery\" and \"data mining\".',\n",
              " 'the modern conception of data science as an independent discipline is sometimes attributed to william s. cleveland.',\n",
              " 'in a paper, he advocated an expansion of statistics beyond theory into technical areas; because this would significantly change the field, it warranted a new name.',\n",
              " '\"data science\" became more widely used in the next few years: in , the committee on data for science and technology launched data science journal.',\n",
              " 'in , columbia university launched the journal of data science.',\n",
              " \"in , the american statistical association's section on statistical learning and data mining changed its name to the section on statistical learning and data science, reflecting the ascendant popularity of data science.\",\n",
              " 'the professional title of \"data scientist\" has been attributed to dj patil and jeff hammerbacher in .',\n",
              " 'though it was used by the national science board in their report, \"long-lived digital data collections: enabling research and education in the st century,\" it referred broadly to any key role in managing a digital data collection.',\n",
              " 'there is still no consensus on the definition of data science and it is considered by some to be a buzzword.',\n",
              " 'big data is a related marketing term.',\n",
              " 'data scientists are responsible for breaking down big data into usable information and creating software and algorithms that help companies and organizations determine optimal operations.',\n",
              " 'there is a variety of different technologies and techniques that are used for data science which depend on the application.']"
            ]
          },
          "metadata": {},
          "execution_count": 16
        }
      ]
    }
  ]
}